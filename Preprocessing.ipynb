{
 "cells": [
  {
   "cell_type": "code",
   "execution_count": null,
   "metadata": {},
   "outputs": [],
   "source": [
    "#!pip install --user -U nltk\n",
    "#!pip install pymorphy2"
   ]
  },
  {
   "cell_type": "code",
   "execution_count": 1,
   "metadata": {},
   "outputs": [],
   "source": [
    "import csv\n",
    "import re\n",
    "import pymorphy2"
   ]
  },
  {
   "cell_type": "markdown",
   "metadata": {},
   "source": [
    "### Препроцессинг и лемматизация\n",
    "\n",
    "Делаем с текстом следующее:\n",
    "* приводим к нижнему регистру;\n",
    "* удаляем стоп-слова;\n",
    "* удаляем знаки препинания и прочие символы;\n",
    "* производим лемматиацию - приведение слов к начальным формам\n",
    "\n",
    "\n",
    "Список стоп-слов русского языка взят из библиотеки [nltk](https://www.nltk.org/)\n",
    "\n",
    "Лемматизация произвоится с помощью морфологического анализатора [pymorphy2](https://pymorphy2.readthedocs.io/)"
   ]
  },
  {
   "cell_type": "code",
   "execution_count": 2,
   "metadata": {},
   "outputs": [],
   "source": [
    "morph = pymorphy2.MorphAnalyzer()\n",
    "\n",
    "def lemmatize(song):\n",
    "    \n",
    "    doc = song.split()\n",
    "    tokens = \"\"\n",
    "    \n",
    "    for i in range(len(doc)):\n",
    "        token = morph.normal_forms(doc[i])[0]\n",
    "        tokens = tokens + token + \" \"\n",
    "    return(tokens)"
   ]
  },
  {
   "cell_type": "code",
   "execution_count": 3,
   "metadata": {},
   "outputs": [],
   "source": [
    "from nltk.corpus import stopwords\n",
    "\n",
    "stopwords = set(stopwords.words('russian'))\n",
    "custom_stopwords = ['припев', 'куплет', 'интро']  # дополним список стоп-слов\n",
    "stopwords.update(custom_stopwords)\n",
    "\n",
    "def preprocess(text):\n",
    "    text = re.sub(r'[^\\w\\s]', '', text)\n",
    "    text = text.lower().split()\n",
    "    text = [word for word in text if word not in stopwords]\n",
    "    text = ' '.join(text)\n",
    "    text = lemmatize(text)\n",
    "    return text"
   ]
  },
  {
   "cell_type": "code",
   "execution_count": 4,
   "metadata": {},
   "outputs": [],
   "source": [
    "def parse_csv(data):\n",
    "    with open(data) as csv_data:\n",
    "        lyrics = csv.reader(csv_data, delimiter=',')\n",
    "        lyrics_list = list(lyrics)\n",
    "    return lyrics_list"
   ]
  },
  {
   "cell_type": "code",
   "execution_count": 5,
   "metadata": {},
   "outputs": [],
   "source": [
    "def write_lyrics(lyrics_list, csv_name, counter): \n",
    "    \n",
    "    # lyrics_list - список с текстами\n",
    "    # csv_name - название нового файла\n",
    "    # counter - id последней песни в csv с уже найденными песнями\n",
    "    # например, если уже найдено 50 песен для декады, ставим counter = 50\n",
    "    \n",
    "    with open(csv_name,'w') as out:\n",
    "        csv_out=csv.writer(out)\n",
    "        \n",
    "        for row in lyrics_list:\n",
    "            lyrics = preprocess(row[0])\n",
    "            counter += 1\n",
    "            csv_row = (lyrics, counter)\n",
    "            csv_out.writerow(csv_row)"
   ]
  }
 ],
 "metadata": {
  "kernelspec": {
   "display_name": "Python [conda env:nlp] *",
   "language": "python",
   "name": "conda-env-nlp-py"
  },
  "language_info": {
   "codemirror_mode": {
    "name": "ipython",
    "version": 3
   },
   "file_extension": ".py",
   "mimetype": "text/x-python",
   "name": "python",
   "nbconvert_exporter": "python",
   "pygments_lexer": "ipython3",
   "version": "3.7.8"
  }
 },
 "nbformat": 4,
 "nbformat_minor": 4
}
